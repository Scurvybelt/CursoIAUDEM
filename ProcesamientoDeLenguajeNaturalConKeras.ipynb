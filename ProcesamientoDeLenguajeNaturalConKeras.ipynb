{
  "nbformat": 4,
  "nbformat_minor": 0,
  "metadata": {
    "colab": {
      "provenance": [],
      "toc_visible": true,
      "include_colab_link": true
    },
    "kernelspec": {
      "name": "python3",
      "display_name": "Python 3"
    },
    "language_info": {
      "name": "python"
    }
  },
  "cells": [
    {
      "cell_type": "markdown",
      "metadata": {
        "id": "view-in-github",
        "colab_type": "text"
      },
      "source": [
        "<a href=\"https://colab.research.google.com/github/Scurvybelt/CursoIAUDEM/blob/main/ProcesamientoDeLenguajeNaturalConKeras.ipynb\" target=\"_parent\"><img src=\"https://colab.research.google.com/assets/colab-badge.svg\" alt=\"Open In Colab\"/></a>"
      ]
    },
    {
      "cell_type": "code",
      "execution_count": null,
      "metadata": {
        "id": "ZOFNNhuY6Dj0"
      },
      "outputs": [],
      "source": [
        "import tensorflow as tf\n",
        "from tensorflow import keras\n",
        "from tensorflow.keras.preprocessing.text import Tokenizer\n",
        "from tensorflow.keras.preprocessing.sequence import pad_sequences\n",
        "import numpy as np"
      ]
    },
    {
      "cell_type": "code",
      "source": [
        "from tensorflow.keras.datasets import reuters"
      ],
      "metadata": {
        "id": "W4BfaGEj6a3i"
      },
      "execution_count": null,
      "outputs": []
    },
    {
      "cell_type": "code",
      "source": [
        "\n",
        "num_words = 10000\n",
        "max_seq = 300\n",
        "\n",
        "(x_train, y_train), (x_test, y_test) = reuters.load_data(num_words=num_words, maxlen=max_seq)"
      ],
      "metadata": {
        "id": "49xr8x5z6flr"
      },
      "execution_count": null,
      "outputs": []
    },
    {
      "cell_type": "code",
      "source": [
        "x_train = pad_sequences(x_train, maxlen=max_seq)\n",
        "x_test = pad_sequences(x_test, maxlen=max_seq)"
      ],
      "metadata": {
        "id": "TWvuFCy-6qhA"
      },
      "execution_count": null,
      "outputs": []
    },
    {
      "cell_type": "code",
      "source": [
        "# Evaluar los ejemplos de cada categoria\n",
        "unique, counts = np.unique(y_train, return_counts=True)\n",
        "print(dict(zip(unique, counts)))"
      ],
      "metadata": {
        "colab": {
          "base_uri": "https://localhost:8080/"
        },
        "id": "mUGGn55R60Mp",
        "outputId": "0ab73786-aef5-4f42-bf88-80951aaf1445"
      },
      "execution_count": null,
      "outputs": [
        {
          "output_type": "stream",
          "name": "stdout",
          "text": [
            "{0: 45, 1: 366, 2: 62, 3: 3045, 4: 1775, 5: 13, 6: 43, 7: 13, 8: 115, 9: 77, 10: 107, 11: 272, 12: 44, 13: 157, 14: 24, 15: 18, 16: 333, 17: 36, 18: 60, 19: 460, 20: 216, 21: 61, 22: 13, 23: 37, 24: 54, 25: 85, 26: 19, 27: 14, 28: 42, 29: 14, 30: 36, 31: 36, 32: 23, 33: 11, 34: 46, 35: 10, 36: 35, 37: 15, 38: 18, 39: 20, 40: 25, 41: 26, 42: 9, 43: 18, 44: 12, 45: 16}\n"
          ]
        }
      ]
    },
    {
      "cell_type": "code",
      "source": [
        "\n",
        "class_labels = {\n",
        "    0: \"Cocoa\",\n",
        "    1: \"Grain\",\n",
        "    2: \"Wheat\",\n",
        "    3: \"Coconut\",\n",
        "    4: \"Earnings\",\n",
        "    5: \"Acquisitions\",\n",
        "    6: \"Gold\",\n",
        "    7: \"Money-FX\",\n",
        "    8: \"Coffee\",\n",
        "    9: \"Sugar\",\n",
        "    10: \"Trade\",\n",
        "    11: \"Reserves\",\n",
        "    12: \"Shipments\",\n",
        "    13: \"Interest\",\n",
        "    14: \"Money-supply\",\n",
        "    15: \"Oil\",\n",
        "    16: \"Nat-gas\",\n",
        "    17: \"CPI\",\n",
        "    18: \"Meat\",\n",
        "    19: \"Retail\",\n",
        "    20: \"IPI\",\n",
        "    21: \"Iron-steel\",\n",
        "    22: \"Rubber\",\n",
        "    23: \"Strategic-metal\",\n",
        "    24: \"Tin\",\n",
        "    25: \"Livestock\",\n",
        "    26: \"Orange\",\n",
        "    27: \"Heat\",\n",
        "    28: \"Alum\",\n",
        "    29: \"Palladium\",\n",
        "    30: \"Copper\",\n",
        "    31: \"Lead\",\n",
        "    32: \"Zinc\",\n",
        "    33: \"Nickel\",\n",
        "    34: \"Platinum\",\n",
        "    35: \"Hog\",\n",
        "    36: \"Cotton\",\n",
        "    37: \"Soybean\",\n",
        "    38: \"Rapeseed\",\n",
        "    39: \"Palm-oil\",\n",
        "    40: \"Sunseed\",\n",
        "    41: \"Groundnut\",\n",
        "    42: \"Copra-cake\",\n",
        "    43: \"Soy-meal\",\n",
        "    44: \"Soy-oil\",\n",
        "    45: \"Lumber\"\n",
        "} \"\"\""
      ],
      "metadata": {
        "id": "up6ra_6HIrN3"
      },
      "execution_count": null,
      "outputs": []
    },
    {
      "cell_type": "code",
      "source": [
        "# Convertir las etiquetas usando Keras\n",
        "num_clases = np.max(y_train) + 1 # Cantidad de categorias\n",
        "y_train = keras.utils.to_categorical(y_train, num_clases)\n",
        "y_test = keras.utils.to_categorical(y_test, num_clases)\n"
      ],
      "metadata": {
        "id": "jh-qt4MD635I"
      },
      "execution_count": null,
      "outputs": []
    },
    {
      "cell_type": "code",
      "source": [
        "# Construir una red neuronal\n",
        "model = keras.Sequential([\n",
        "    keras.layers.Embedding(input_dim=num_words, output_dim=128, input_length=max_seq),\n",
        "    keras.layers.GlobalAveragePooling1D(),\n",
        "    keras.layers.Dense(128, activation='relu'),\n",
        "    keras.layers.Dense(64, activation='relu'),\n",
        "    # keras.layers.Dense(32, activation='relu'),\n",
        "    keras.layers.Dense(num_clases, activation='softmax')\n",
        "])\n",
        "\n",
        "# Compilar el modelo\n",
        "model.compile(optimizer='adam', loss='categorical_crossentropy', metrics=['accuracy'])\n",
        "\n",
        "# Entrenar el modelo\n",
        "model.fit(x_train, y_train, epochs=20, batch_size=32, validation_data=(x_test,y_test))\n"
      ],
      "metadata": {
        "colab": {
          "base_uri": "https://localhost:8080/"
        },
        "id": "tTawVGgM6-XS",
        "outputId": "bedc7b4a-8137-40fa-c2d3-f9e92e31a3d7"
      },
      "execution_count": null,
      "outputs": [
        {
          "output_type": "stream",
          "name": "stdout",
          "text": [
            "Epoch 1/20\n",
            "\u001b[1m250/250\u001b[0m \u001b[32m━━━━━━━━━━━━━━━━━━━━\u001b[0m\u001b[37m\u001b[0m \u001b[1m7s\u001b[0m 22ms/step - accuracy: 0.3740 - loss: 2.5881 - val_accuracy: 0.5311 - val_loss: 1.9269\n",
            "Epoch 2/20\n",
            "\u001b[1m250/250\u001b[0m \u001b[32m━━━━━━━━━━━━━━━━━━━━\u001b[0m\u001b[37m\u001b[0m \u001b[1m9s\u001b[0m 17ms/step - accuracy: 0.5340 - loss: 1.8295 - val_accuracy: 0.6189 - val_loss: 1.5582\n",
            "Epoch 3/20\n",
            "\u001b[1m250/250\u001b[0m \u001b[32m━━━━━━━━━━━━━━━━━━━━\u001b[0m\u001b[37m\u001b[0m \u001b[1m5s\u001b[0m 21ms/step - accuracy: 0.6410 - loss: 1.4639 - val_accuracy: 0.6690 - val_loss: 1.3873\n",
            "Epoch 4/20\n",
            "\u001b[1m250/250\u001b[0m \u001b[32m━━━━━━━━━━━━━━━━━━━━\u001b[0m\u001b[37m\u001b[0m \u001b[1m11s\u001b[0m 22ms/step - accuracy: 0.6948 - loss: 1.2962 - val_accuracy: 0.6836 - val_loss: 1.3140\n",
            "Epoch 5/20\n",
            "\u001b[1m250/250\u001b[0m \u001b[32m━━━━━━━━━━━━━━━━━━━━\u001b[0m\u001b[37m\u001b[0m \u001b[1m4s\u001b[0m 18ms/step - accuracy: 0.7441 - loss: 1.0595 - val_accuracy: 0.7096 - val_loss: 1.1767\n",
            "Epoch 6/20\n",
            "\u001b[1m250/250\u001b[0m \u001b[32m━━━━━━━━━━━━━━━━━━━━\u001b[0m\u001b[37m\u001b[0m \u001b[1m5s\u001b[0m 18ms/step - accuracy: 0.7734 - loss: 0.9439 - val_accuracy: 0.7538 - val_loss: 1.0507\n",
            "Epoch 7/20\n",
            "\u001b[1m250/250\u001b[0m \u001b[32m━━━━━━━━━━━━━━━━━━━━\u001b[0m\u001b[37m\u001b[0m \u001b[1m6s\u001b[0m 20ms/step - accuracy: 0.8062 - loss: 0.7913 - val_accuracy: 0.7623 - val_loss: 0.9894\n",
            "Epoch 8/20\n",
            "\u001b[1m250/250\u001b[0m \u001b[32m━━━━━━━━━━━━━━━━━━━━\u001b[0m\u001b[37m\u001b[0m \u001b[1m4s\u001b[0m 17ms/step - accuracy: 0.8125 - loss: 0.7587 - val_accuracy: 0.7768 - val_loss: 0.9377\n",
            "Epoch 9/20\n",
            "\u001b[1m250/250\u001b[0m \u001b[32m━━━━━━━━━━━━━━━━━━━━\u001b[0m\u001b[37m\u001b[0m \u001b[1m6s\u001b[0m 21ms/step - accuracy: 0.8369 - loss: 0.6534 - val_accuracy: 0.7678 - val_loss: 0.9894\n",
            "Epoch 10/20\n",
            "\u001b[1m250/250\u001b[0m \u001b[32m━━━━━━━━━━━━━━━━━━━━\u001b[0m\u001b[37m\u001b[0m \u001b[1m9s\u001b[0m 17ms/step - accuracy: 0.8504 - loss: 0.5876 - val_accuracy: 0.7633 - val_loss: 1.0283\n",
            "Epoch 11/20\n",
            "\u001b[1m250/250\u001b[0m \u001b[32m━━━━━━━━━━━━━━━━━━━━\u001b[0m\u001b[37m\u001b[0m \u001b[1m6s\u001b[0m 20ms/step - accuracy: 0.8718 - loss: 0.5349 - val_accuracy: 0.7668 - val_loss: 1.0621\n",
            "Epoch 12/20\n",
            "\u001b[1m250/250\u001b[0m \u001b[32m━━━━━━━━━━━━━━━━━━━━\u001b[0m\u001b[37m\u001b[0m \u001b[1m4s\u001b[0m 18ms/step - accuracy: 0.8786 - loss: 0.5014 - val_accuracy: 0.7808 - val_loss: 1.0169\n",
            "Epoch 13/20\n",
            "\u001b[1m250/250\u001b[0m \u001b[32m━━━━━━━━━━━━━━━━━━━━\u001b[0m\u001b[37m\u001b[0m \u001b[1m6s\u001b[0m 21ms/step - accuracy: 0.8852 - loss: 0.4637 - val_accuracy: 0.7979 - val_loss: 0.9135\n",
            "Epoch 14/20\n",
            "\u001b[1m250/250\u001b[0m \u001b[32m━━━━━━━━━━━━━━━━━━━━\u001b[0m\u001b[37m\u001b[0m \u001b[1m4s\u001b[0m 18ms/step - accuracy: 0.9058 - loss: 0.3953 - val_accuracy: 0.7884 - val_loss: 0.9928\n",
            "Epoch 15/20\n",
            "\u001b[1m250/250\u001b[0m \u001b[32m━━━━━━━━━━━━━━━━━━━━\u001b[0m\u001b[37m\u001b[0m \u001b[1m4s\u001b[0m 17ms/step - accuracy: 0.9140 - loss: 0.3508 - val_accuracy: 0.7944 - val_loss: 0.9930\n",
            "Epoch 16/20\n",
            "\u001b[1m250/250\u001b[0m \u001b[32m━━━━━━━━━━━━━━━━━━━━\u001b[0m\u001b[37m\u001b[0m \u001b[1m5s\u001b[0m 20ms/step - accuracy: 0.9158 - loss: 0.3411 - val_accuracy: 0.8049 - val_loss: 0.9548\n",
            "Epoch 17/20\n",
            "\u001b[1m250/250\u001b[0m \u001b[32m━━━━━━━━━━━━━━━━━━━━\u001b[0m\u001b[37m\u001b[0m \u001b[1m4s\u001b[0m 17ms/step - accuracy: 0.9190 - loss: 0.3184 - val_accuracy: 0.8024 - val_loss: 0.9580\n",
            "Epoch 18/20\n",
            "\u001b[1m250/250\u001b[0m \u001b[32m━━━━━━━━━━━━━━━━━━━━\u001b[0m\u001b[37m\u001b[0m \u001b[1m6s\u001b[0m 21ms/step - accuracy: 0.9280 - loss: 0.2935 - val_accuracy: 0.7894 - val_loss: 1.0152\n",
            "Epoch 19/20\n",
            "\u001b[1m250/250\u001b[0m \u001b[32m━━━━━━━━━━━━━━━━━━━━\u001b[0m\u001b[37m\u001b[0m \u001b[1m4s\u001b[0m 18ms/step - accuracy: 0.9251 - loss: 0.2998 - val_accuracy: 0.7768 - val_loss: 1.1238\n",
            "Epoch 20/20\n",
            "\u001b[1m250/250\u001b[0m \u001b[32m━━━━━━━━━━━━━━━━━━━━\u001b[0m\u001b[37m\u001b[0m \u001b[1m4s\u001b[0m 17ms/step - accuracy: 0.9303 - loss: 0.2712 - val_accuracy: 0.8049 - val_loss: 1.0538\n"
          ]
        },
        {
          "output_type": "execute_result",
          "data": {
            "text/plain": [
              "<keras.src.callbacks.history.History at 0x7911edcf8a10>"
            ]
          },
          "metadata": {},
          "execution_count": 43
        }
      ]
    },
    {
      "cell_type": "code",
      "source": [
        "#Val:accuracy es la importante\n",
        "# Evaluar el modelo\n",
        "loss, accuracy = model.evaluate(x_test, y_test)\n",
        "print(f'Pérdida: {loss}, Exactitud: {accuracy}')"
      ],
      "metadata": {
        "colab": {
          "base_uri": "https://localhost:8080/"
        },
        "id": "f4Lyw9Hf7bsv",
        "outputId": "c2ea29dd-7100-41cf-cad3-07b841f95407"
      },
      "execution_count": null,
      "outputs": [
        {
          "output_type": "stream",
          "name": "stdout",
          "text": [
            "\u001b[1m63/63\u001b[0m \u001b[32m━━━━━━━━━━━━━━━━━━━━\u001b[0m\u001b[37m\u001b[0m \u001b[1m0s\u001b[0m 3ms/step - accuracy: 0.8109 - loss: 1.0072\n",
            "Pérdida: 1.0537704229354858, Exactitud: 0.8049147725105286\n"
          ]
        }
      ]
    },
    {
      "cell_type": "code",
      "source": [
        "#Early Stopping\n",
        "from tensorflow.keras.callbacks import EarlyStopping\n",
        "\n",
        "#Definimos secuencas de early stop\n",
        "early_stop = EarlyStopping(\n",
        "    monitor='val_loss',\n",
        "    patience= 10,\n",
        "    restore_best_weights=True,\n",
        "    verbose=1\n",
        ")\n",
        "\n",
        "#Vuelvo a entrenar\n",
        "\n",
        "model.fit(x_train, y_train, epochs=20, batch_size=32, validation_data=(x_test,y_test),callbacks=[early_stop])\n"
      ],
      "metadata": {
        "colab": {
          "base_uri": "https://localhost:8080/"
        },
        "id": "SbNVvs6IDR2a",
        "outputId": "84663f81-5d12-43ac-d361-10549e8e8cd6"
      },
      "execution_count": null,
      "outputs": [
        {
          "output_type": "stream",
          "name": "stdout",
          "text": [
            "Epoch 1/20\n",
            "\u001b[1m250/250\u001b[0m \u001b[32m━━━━━━━━━━━━━━━━━━━━\u001b[0m\u001b[37m\u001b[0m \u001b[1m4s\u001b[0m 17ms/step - accuracy: 0.9393 - loss: 0.2337 - val_accuracy: 0.7999 - val_loss: 1.0738\n",
            "Epoch 2/20\n",
            "\u001b[1m250/250\u001b[0m \u001b[32m━━━━━━━━━━━━━━━━━━━━\u001b[0m\u001b[37m\u001b[0m \u001b[1m5s\u001b[0m 18ms/step - accuracy: 0.9381 - loss: 0.2213 - val_accuracy: 0.7874 - val_loss: 1.1392\n",
            "Epoch 3/20\n",
            "\u001b[1m250/250\u001b[0m \u001b[32m━━━━━━━━━━━━━━━━━━━━\u001b[0m\u001b[37m\u001b[0m \u001b[1m5s\u001b[0m 19ms/step - accuracy: 0.9389 - loss: 0.2332 - val_accuracy: 0.7738 - val_loss: 1.2397\n",
            "Epoch 4/20\n",
            "\u001b[1m250/250\u001b[0m \u001b[32m━━━━━━━━━━━━━━━━━━━━\u001b[0m\u001b[37m\u001b[0m \u001b[1m4s\u001b[0m 18ms/step - accuracy: 0.9385 - loss: 0.2203 - val_accuracy: 0.7457 - val_loss: 1.4232\n",
            "Epoch 5/20\n",
            "\u001b[1m250/250\u001b[0m \u001b[32m━━━━━━━━━━━━━━━━━━━━\u001b[0m\u001b[37m\u001b[0m \u001b[1m6s\u001b[0m 21ms/step - accuracy: 0.9293 - loss: 0.2554 - val_accuracy: 0.8034 - val_loss: 1.0993\n",
            "Epoch 6/20\n",
            "\u001b[1m250/250\u001b[0m \u001b[32m━━━━━━━━━━━━━━━━━━━━\u001b[0m\u001b[37m\u001b[0m \u001b[1m9s\u001b[0m 18ms/step - accuracy: 0.9371 - loss: 0.2235 - val_accuracy: 0.7914 - val_loss: 1.1957\n",
            "Epoch 7/20\n",
            "\u001b[1m250/250\u001b[0m \u001b[32m━━━━━━━━━━━━━━━━━━━━\u001b[0m\u001b[37m\u001b[0m \u001b[1m6s\u001b[0m 23ms/step - accuracy: 0.9430 - loss: 0.2074 - val_accuracy: 0.8064 - val_loss: 1.1457\n",
            "Epoch 8/20\n",
            "\u001b[1m250/250\u001b[0m \u001b[32m━━━━━━━━━━━━━━━━━━━━\u001b[0m\u001b[37m\u001b[0m \u001b[1m5s\u001b[0m 19ms/step - accuracy: 0.9473 - loss: 0.1784 - val_accuracy: 0.7989 - val_loss: 1.2005\n",
            "Epoch 9/20\n",
            "\u001b[1m250/250\u001b[0m \u001b[32m━━━━━━━━━━━━━━━━━━━━\u001b[0m\u001b[37m\u001b[0m \u001b[1m6s\u001b[0m 21ms/step - accuracy: 0.9501 - loss: 0.1781 - val_accuracy: 0.7984 - val_loss: 1.2240\n",
            "Epoch 10/20\n",
            "\u001b[1m250/250\u001b[0m \u001b[32m━━━━━━━━━━━━━━━━━━━━\u001b[0m\u001b[37m\u001b[0m \u001b[1m9s\u001b[0m 17ms/step - accuracy: 0.9461 - loss: 0.1888 - val_accuracy: 0.7763 - val_loss: 1.3909\n",
            "Epoch 11/20\n",
            "\u001b[1m250/250\u001b[0m \u001b[32m━━━━━━━━━━━━━━━━━━━━\u001b[0m\u001b[37m\u001b[0m \u001b[1m6s\u001b[0m 20ms/step - accuracy: 0.9490 - loss: 0.1794 - val_accuracy: 0.7889 - val_loss: 1.3554\n",
            "Epoch 11: early stopping\n",
            "Restoring model weights from the end of the best epoch: 1.\n"
          ]
        },
        {
          "output_type": "execute_result",
          "data": {
            "text/plain": [
              "<keras.src.callbacks.history.History at 0x7911edce15d0>"
            ]
          },
          "metadata": {},
          "execution_count": 45
        }
      ]
    },
    {
      "cell_type": "code",
      "source": [
        "\n",
        "#ya tenemos la red neuronal\n",
        "#Carga el diccionario de palabras\n",
        "\n",
        "word_index = reuters.get_word_index()\n",
        "word_index_reverso = {v:k for k,v in word_index.items()}"
      ],
      "metadata": {
        "id": "gVxVjfp4FfoF"
      },
      "execution_count": null,
      "outputs": []
    },
    {
      "cell_type": "code",
      "source": [
        "#Crear una noticia false\n",
        "noticia = \"News say that this summer will be the hottest summer.\"\n",
        "#Tokenizar la noticia\n",
        "noticia_tokens = [word_index.get(word,0) for word in noticia.lower().split()]\n",
        "#Aplicamos el padding\n",
        "max_seq = 300\n",
        "\n",
        "noticia_pad = pad_sequences([noticia_tokens], maxlen=max_seq, padding='post')\n",
        "\n",
        "\n"
      ],
      "metadata": {
        "id": "g5eViMmcGRoJ"
      },
      "execution_count": null,
      "outputs": []
    },
    {
      "cell_type": "code",
      "source": [],
      "metadata": {
        "id": "2tGescULYgTP"
      },
      "execution_count": null,
      "outputs": []
    },
    {
      "cell_type": "markdown",
      "source": [
        "# Sección nueva"
      ],
      "metadata": {
        "id": "bD1JyIb1YhWd"
      }
    },
    {
      "cell_type": "markdown",
      "source": [
        "# Sección nueva"
      ],
      "metadata": {
        "id": "mGiA8wAmYoCP"
      }
    },
    {
      "cell_type": "code",
      "source": [
        "predicciones = model.predict(noticia_pad)#lo increasas como vector 1*n\n",
        "clase_pron = np.argmax(predicciones) #Max la probabilidad de pertenecia a la clase\n",
        "clase_pron"
      ],
      "metadata": {
        "colab": {
          "base_uri": "https://localhost:8080/"
        },
        "id": "OalzAGByHzi5",
        "outputId": "7a89f810-7ea1-481c-f057-2f3d25cd862e"
      },
      "execution_count": null,
      "outputs": [
        {
          "output_type": "stream",
          "name": "stdout",
          "text": [
            "\u001b[1m1/1\u001b[0m \u001b[32m━━━━━━━━━━━━━━━━━━━━\u001b[0m\u001b[37m\u001b[0m \u001b[1m31s\u001b[0m 31s/step\n"
          ]
        },
        {
          "output_type": "execute_result",
          "data": {
            "text/plain": [
              "3"
            ]
          },
          "metadata": {},
          "execution_count": 48
        }
      ]
    },
    {
      "cell_type": "markdown",
      "source": [],
      "metadata": {
        "id": "TF7ueDdJ6e0A"
      }
    },
    {
      "cell_type": "markdown",
      "source": [],
      "metadata": {
        "id": "t3mzH0jwDQC5"
      }
    }
  ]
}